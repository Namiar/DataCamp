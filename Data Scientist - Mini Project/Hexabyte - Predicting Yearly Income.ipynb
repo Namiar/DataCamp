{
 "cells": [
  {
   "cell_type": "code",
   "execution_count": 1,
   "metadata": {},
   "outputs": [
    {
     "name": "stdout",
     "output_type": "stream",
     "text": [
      "<class 'pandas.core.frame.DataFrame'>\n",
      "RangeIndex: 48842 entries, 0 to 48841\n",
      "Data columns (total 15 columns):\n",
      " #   Column          Non-Null Count  Dtype \n",
      "---  ------          --------------  ----- \n",
      " 0   age             48842 non-null  int64 \n",
      " 1   workclass       48842 non-null  object\n",
      " 2   fnlwgt          48842 non-null  int64 \n",
      " 3   education       48842 non-null  object\n",
      " 4   education-num   48842 non-null  int64 \n",
      " 5   marital-status  48842 non-null  object\n",
      " 6   occupation      48842 non-null  object\n",
      " 7   relationship    48842 non-null  object\n",
      " 8   race            48842 non-null  object\n",
      " 9   sex             48842 non-null  object\n",
      " 10  capital-gain    48842 non-null  int64 \n",
      " 11  capital-loss    48842 non-null  int64 \n",
      " 12  hours-per-week  48842 non-null  int64 \n",
      " 13  native-country  48842 non-null  object\n",
      " 14  income          48842 non-null  object\n",
      "dtypes: int64(6), object(9)\n",
      "memory usage: 5.6+ MB\n"
     ]
    }
   ],
   "source": [
    "#Data cleaning\n",
    "import pandas as pd\n",
    "import numpy as np\n",
    "dfCSV = pd.read_csv(\"C:/Users/meera/Desktop/census.csv\")\n",
    "dfCSV.info()"
   ]
  },
  {
   "cell_type": "code",
   "execution_count": 2,
   "metadata": {},
   "outputs": [
    {
     "name": "stdout",
     "output_type": "stream",
     "text": [
      "36    1348\n",
      "35    1337\n",
      "33    1335\n",
      "23    1329\n",
      "31    1325\n",
      "      ... \n",
      "88       6\n",
      "85       5\n",
      "87       3\n",
      "89       2\n",
      "86       1\n",
      "Name: age, Length: 74, dtype: int64\n",
      "90\n",
      "17\n"
     ]
    }
   ],
   "source": [
    "#check age\n",
    "print(dfCSV[\"age\"].value_counts())\n",
    "print(dfCSV[\"age\"].max())\n",
    "print(dfCSV[\"age\"].min())"
   ]
  },
  {
   "cell_type": "code",
   "execution_count": 3,
   "metadata": {},
   "outputs": [
    {
     "name": "stdout",
     "output_type": "stream",
     "text": [
      "Private             33906\n",
      "Self-emp-not-inc     3862\n",
      "Local-gov            3136\n",
      "?                    2799\n",
      "State-gov            1981\n",
      "Self-emp-inc         1695\n",
      "Federal-gov          1432\n",
      "Without-pay            21\n",
      "Never-worked           10\n",
      "Name: workclass, dtype: int64\n",
      "Private             33906\n",
      "Self-emp-not-inc     3862\n",
      "Local-gov            3136\n",
      "Other_workclass      2799\n",
      "State-gov            1981\n",
      "Self-emp-inc         1695\n",
      "Federal-gov          1432\n",
      "Without-pay            21\n",
      "Never-worked           10\n",
      "Name: workclass, dtype: int64\n",
      "category\n"
     ]
    }
   ],
   "source": [
    "#check workclass and change as category and replace to other-workclass\n",
    "print(dfCSV[\"workclass\"].value_counts())\n",
    "dfCSV[\"workclass\"] = dfCSV[\"workclass\"].str.replace(\"?\", \"Other_workclass\")\n",
    "print(dfCSV[\"workclass\"].value_counts())\n",
    "dfCSV[\"workclass\"] = dfCSV[\"workclass\"].astype(\"category\")\n",
    "print(dfCSV[\"workclass\"].dtype)"
   ]
  },
  {
   "cell_type": "code",
   "execution_count": 4,
   "metadata": {},
   "outputs": [
    {
     "name": "stdout",
     "output_type": "stream",
     "text": [
      "203488    21\n",
      "190290    19\n",
      "120277    19\n",
      "125892    18\n",
      "126569    18\n",
      "          ..\n",
      "131379     1\n",
      "160061     1\n",
      "334224     1\n",
      "45381      1\n",
      "208174     1\n",
      "Name: fnlwgt, Length: 28523, dtype: int64\n",
      "1490400\n",
      "12285\n"
     ]
    }
   ],
   "source": [
    "#check fnlwgt\n",
    "print(dfCSV[\"fnlwgt\"].value_counts())\n",
    "print(dfCSV[\"fnlwgt\"].max())\n",
    "print(dfCSV[\"fnlwgt\"].min())"
   ]
  },
  {
   "cell_type": "code",
   "execution_count": 5,
   "metadata": {},
   "outputs": [
    {
     "name": "stdout",
     "output_type": "stream",
     "text": [
      "object\n",
      "category\n"
     ]
    }
   ],
   "source": [
    "#change education as category\n",
    "print(dfCSV[\"education\"].dtype)\n",
    "dfCSV[\"education\"] = dfCSV[\"education\"].astype(\"category\")\n",
    "print(dfCSV[\"education\"].dtype)"
   ]
  },
  {
   "cell_type": "code",
   "execution_count": 6,
   "metadata": {},
   "outputs": [
    {
     "name": "stdout",
     "output_type": "stream",
     "text": [
      "9     15784\n",
      "10    10878\n",
      "13     8025\n",
      "14     2657\n",
      "11     2061\n",
      "7      1812\n",
      "12     1601\n",
      "6      1389\n",
      "4       955\n",
      "15      834\n",
      "5       756\n",
      "8       657\n",
      "16      594\n",
      "3       509\n",
      "2       247\n",
      "1        83\n",
      "Name: education-num, dtype: int64\n"
     ]
    }
   ],
   "source": [
    "#check education-num\n",
    "print(dfCSV[\"education-num\"].value_counts())"
   ]
  },
  {
   "cell_type": "code",
   "execution_count": 7,
   "metadata": {},
   "outputs": [
    {
     "name": "stdout",
     "output_type": "stream",
     "text": [
      "object\n",
      "category\n"
     ]
    }
   ],
   "source": [
    "#change marital-status as category\n",
    "print(dfCSV[\"marital-status\"].dtype)\n",
    "dfCSV[\"marital-status\"] = dfCSV[\"marital-status\"].astype(\"category\")\n",
    "print(dfCSV[\"marital-status\"].dtype)"
   ]
  },
  {
   "cell_type": "code",
   "execution_count": 8,
   "metadata": {},
   "outputs": [
    {
     "name": "stdout",
     "output_type": "stream",
     "text": [
      "Prof-specialty       6172\n",
      "Craft-repair         6112\n",
      "Exec-managerial      6086\n",
      "Adm-clerical         5611\n",
      "Sales                5504\n",
      "Other-service        4923\n",
      "Machine-op-inspct    3022\n",
      "?                    2809\n",
      "Transport-moving     2355\n",
      "Handlers-cleaners    2072\n",
      "Farming-fishing      1490\n",
      "Tech-support         1446\n",
      "Protective-serv       983\n",
      "Priv-house-serv       242\n",
      "Armed-Forces           15\n",
      "Name: occupation, dtype: int64\n",
      "category\n"
     ]
    }
   ],
   "source": [
    "#check occupation and change as category and replace to nan\n",
    "print(dfCSV[\"occupation\"].value_counts())\n",
    "dfCSV.loc[dfCSV[\"occupation\"] == \"?\", \"occupation\"] = np.nan\n",
    "dfCSV[\"occupation\"] = dfCSV[\"occupation\"].astype(\"category\")\n",
    "print(dfCSV[\"occupation\"].dtype)"
   ]
  },
  {
   "cell_type": "code",
   "execution_count": 9,
   "metadata": {},
   "outputs": [
    {
     "name": "stdout",
     "output_type": "stream",
     "text": [
      "United-States                 43832\n",
      "Mexico                          951\n",
      "Other_country                   857\n",
      "Philippines                     295\n",
      "Germany                         206\n",
      "Puerto-Rico                     184\n",
      "Canada                          182\n",
      "El-Salvador                     155\n",
      "India                           151\n",
      "Cuba                            138\n",
      "England                         127\n",
      "China                           122\n",
      "South                           115\n",
      "Jamaica                         106\n",
      "Italy                           105\n",
      "Dominican-Republic              103\n",
      "Japan                            92\n",
      "Guatemala                        88\n",
      "Poland                           87\n",
      "Vietnam                          86\n",
      "Columbia                         85\n",
      "Haiti                            75\n",
      "Portugal                         67\n",
      "Taiwan                           65\n",
      "Iran                             59\n",
      "Greece                           49\n",
      "Nicaragua                        49\n",
      "Peru                             46\n",
      "Ecuador                          45\n",
      "France                           38\n",
      "Ireland                          37\n",
      "Thailand                         30\n",
      "Hong                             30\n",
      "Cambodia                         28\n",
      "Trinadad&Tobago                  27\n",
      "Yugoslavia                       23\n",
      "Laos                             23\n",
      "Outlying-US(Guam-USVI-etc)       23\n",
      "Scotland                         21\n",
      "Honduras                         20\n",
      "Hungary                          19\n",
      "Holand-Netherlands                1\n",
      "Name: native-country, dtype: int64\n"
     ]
    }
   ],
   "source": [
    "dfCSV[\"native-country\"] = dfCSV[\"native-country\"].str.replace(\"?\", \"Other_country\")\n",
    "print(dfCSV[\"native-country\"].value_counts())"
   ]
  },
  {
   "cell_type": "code",
   "execution_count": 10,
   "metadata": {},
   "outputs": [
    {
     "name": "stdout",
     "output_type": "stream",
     "text": [
      "<class 'pandas.core.frame.DataFrame'>\n",
      "RangeIndex: 48842 entries, 0 to 48841\n",
      "Data columns (total 15 columns):\n",
      " #   Column          Non-Null Count  Dtype   \n",
      "---  ------          --------------  -----   \n",
      " 0   age             48842 non-null  int64   \n",
      " 1   workclass       48842 non-null  category\n",
      " 2   fnlwgt          48842 non-null  int64   \n",
      " 3   education       48842 non-null  category\n",
      " 4   education-num   48842 non-null  int64   \n",
      " 5   marital-status  48842 non-null  category\n",
      " 6   occupation      46033 non-null  category\n",
      " 7   relationship    48842 non-null  object  \n",
      " 8   race            48842 non-null  object  \n",
      " 9   sex             48842 non-null  object  \n",
      " 10  capital-gain    48842 non-null  int64   \n",
      " 11  capital-loss    48842 non-null  int64   \n",
      " 12  hours-per-week  48842 non-null  int64   \n",
      " 13  native-country  48842 non-null  object  \n",
      " 14  income          48842 non-null  object  \n",
      "dtypes: category(4), int64(6), object(5)\n",
      "memory usage: 4.3+ MB\n",
      "None\n",
      "(52, 15)\n"
     ]
    }
   ],
   "source": [
    "#check duplicate\n",
    "print(dfCSV.info())\n",
    "duplicates = dfCSV.duplicated()\n",
    "print(dfCSV[duplicates].shape)"
   ]
  },
  {
   "cell_type": "code",
   "execution_count": 11,
   "metadata": {},
   "outputs": [
    {
     "name": "stdout",
     "output_type": "stream",
     "text": [
      "(48790, 15)\n"
     ]
    }
   ],
   "source": [
    "#drop duplicate\n",
    "dfCSV.drop_duplicates(inplace=True)\n",
    "print(dfCSV.shape)"
   ]
  },
  {
   "cell_type": "code",
   "execution_count": 12,
   "metadata": {},
   "outputs": [
    {
     "name": "stdout",
     "output_type": "stream",
     "text": [
      "Individuals works not overtime and income is more than $50,000: 864\n",
      "Individuals works not overtime and income is at most $50,000: 9456\n",
      "Individuals works overtime and income is more than $50,000: 10817\n",
      "Individuals works overtime and income is at most $50,000: 27653\n"
     ]
    }
   ],
   "source": [
    "#1)\tDoes working more hours lead to higher income?\n",
    "\n",
    "# Number of records where individual works not overtime and income is more than $50,000\n",
    "n_l35_m50k = dfCSV[(dfCSV['hours-per-week'] <= 35) & (dfCSV['income'] == '>50K')].shape[0]\n",
    "print(\"Individuals works not overtime and income is more than $50,000: {}\".format(n_l35_m50k))\n",
    "\n",
    "# Number of records where individual works not overtime and income is at most $50,000\n",
    "n_l35_a50k = dfCSV[(dfCSV['hours-per-week'] <= 35) & (dfCSV['income'] == '<=50K')].shape[0]\n",
    "print(\"Individuals works not overtime and income is at most $50,000: {}\".format(n_l35_a50k))\n",
    "\n",
    "# Number of records where individual works overtime and income is more than $50,000\n",
    "n_m35_m50k = dfCSV[(dfCSV['hours-per-week'] > 35) & (dfCSV['income'] == '>50K')].shape[0]\n",
    "print(\"Individuals works overtime and income is more than $50,000: {}\".format(n_m35_m50k))\n",
    "\n",
    "# Number of records where individual works overtime and income is at most $50,000\n",
    "n_m35_a50k = dfCSV[(dfCSV['hours-per-week'] > 35) & (dfCSV['income'] == '<=50K')].shape[0]\n",
    "print(\"Individuals works overtime and income is at most $50,000: {}\".format(n_m35_a50k))"
   ]
  },
  {
   "cell_type": "code",
   "execution_count": 13,
   "metadata": {},
   "outputs": [
    {
     "data": {
      "image/png": "[encoded data removed]",
      "text/plain": [
       "<Figure size 432x288 with 1 Axes>"
      ]
     },
     "metadata": {
      "needs_background": "light"
     },
     "output_type": "display_data"
    },
    {
     "data": {
      "image/png": "[encoded data removed]",
      "text/plain": [
       "<Figure size 432x288 with 1 Axes>"
      ]
     },
     "metadata": {
      "needs_background": "light"
     },
     "output_type": "display_data"
    },
    {
     "data": {
      "text/plain": [
       "<Figure size 432x288 with 0 Axes>"
      ]
     },
     "metadata": {},
     "output_type": "display_data"
    }
   ],
   "source": [
    "#graph\n",
    "# Number of records where individual works not overtime\n",
    "n_less_35 = dfCSV[dfCSV['hours-per-week'] <= 35]\n",
    "\n",
    "# Number of records where individual works overtime\n",
    "n_more_35 = dfCSV[dfCSV['hours-per-week'] > 35]\n",
    "\n",
    "import matplotlib.pyplot as plt\n",
    "import seaborn as sns\n",
    "sns.barplot(x=n_less_35['income'], y=n_less_35['hours-per-week'], data=n_less_35)\n",
    "plt.title('Individual that works during office hour')\n",
    "plt.show()\n",
    "plt.clf()\n",
    "\n",
    "sns.barplot(x=n_more_35['income'], y=n_more_35['hours-per-week'], data=n_more_35)\n",
    "plt.title('Individual that works overtime')\n",
    "plt.show()\n",
    "plt.clf()"
   ]
  },
  {
   "cell_type": "code",
   "execution_count": 14,
   "metadata": {},
   "outputs": [
    {
     "name": "stdout",
     "output_type": "stream",
     "text": [
      "A student with high oc: 7602\n",
      "C student with low oc: 5501\n",
      "A student with low oc: 4134\n",
      "C student with high oc: 260\n"
     ]
    }
   ],
   "source": [
    "#2)\tMany people believe that the “A” students will end up working for “C” students. Do you think the statement is correct (based on this dataset)?\n",
    "high_oc = ['Exec-managerial', 'Prof-specialty']\n",
    "low_oc = ['Craft-repair', 'Handlers-cleaners', 'Armed-Forces', 'Transport-moving', 'Other-service',\n",
    "                       'Farming-fishing', 'Sales', 'Tech-support', 'Priv-house-serv', 'Protective-serv', 'Adm-clerical', \n",
    "                       'Machine-op-inspct']\n",
    "n_astudhigh = dfCSV[(dfCSV['education-num'] >= 13) & (dfCSV['education-num'] <=16) & (dfCSV[\"occupation\"].isin(high_oc))].shape[0]\n",
    "print(\"A student with high oc: {}\".format(n_astudhigh))\n",
    "n_astudlow = dfCSV[(dfCSV['education-num'] >=1) & (dfCSV['education-num'] <=8) & (dfCSV[\"occupation\"].isin(low_oc))].shape[0]\n",
    "print(\"C student with low oc: {}\".format(n_astudlow))\n",
    "n_cstudhigh = dfCSV[(dfCSV['education-num'] >= 13) & (dfCSV['education-num'] <=16) & (dfCSV[\"occupation\"].isin(low_oc))].shape[0]\n",
    "print(\"A student with low oc: {}\".format(n_cstudhigh))\n",
    "n_cstudlow = dfCSV[(dfCSV['education-num'] >=1) & (dfCSV['education-num'] <=8) & (dfCSV[\"occupation\"].isin(high_oc))].shape[0]\n",
    "print(\"C student with high oc: {}\".format(n_cstudlow))"
   ]
  },
  {
   "cell_type": "code",
   "execution_count": 15,
   "metadata": {},
   "outputs": [
    {
     "data": {
      "image/png": "[encoded data removed]",
      "text/plain": [
       "<Figure size 432x288 with 1 Axes>"
      ]
     },
     "metadata": {
      "needs_background": "light"
     },
     "output_type": "display_data"
    }
   ],
   "source": [
    "#Graph:\n",
    "import matplotlib\n",
    "import matplotlib.pyplot as plt\n",
    "import numpy as np\n",
    "\n",
    "labels = ['A' ,'C']\n",
    "\n",
    "A = [n_astudhigh, n_astudlow]\n",
    "C = [n_cstudhigh, n_cstudlow]\n",
    "x = np.arange(len(labels))  # the label locations\n",
    "width = 0.35  # the width of the bars\n",
    "fig, ax = plt.subplots()\n",
    "rects1 = ax.bar(x - width/2, A, width, label='high')\n",
    "rects2 = ax.bar(x + width/2, C, width, label='low')\n",
    "# Add some text for labels, title and custom x-axis tick labels, etc.\n",
    "ax.set_ylabel('Num of people')\n",
    "ax.set_title('Num of people by label and level of occupation')\n",
    "ax.set_xticks(x)\n",
    "ax.set_xticklabels(labels)\n",
    "ax.legend()\n",
    "def autolabel(rects):\n",
    "    \"\"\"Attach a text label above each bar in *rects*, displaying its height.\"\"\"\n",
    "    for rect in rects:\n",
    "        height = rect.get_height()\n",
    "        ax.annotate('{}'.format(height),\n",
    "                    xy=(rect.get_x() + rect.get_width() / 2, height),\n",
    "                    xytext=(0, 3),  # 3 points vertical offset\n",
    "                    textcoords=\"offset points\",\n",
    "                    ha='center', va='bottom')\n",
    "autolabel(rects1)\n",
    "autolabel(rects2)\n",
    "fig.tight_layout()\n",
    "plt.show()"
   ]
  },
  {
   "cell_type": "code",
   "execution_count": 16,
   "metadata": {},
   "outputs": [
    {
     "name": "stdout",
     "output_type": "stream",
     "text": [
      "Number of records where individual's income is more than $50,000: 11681\n",
      "Number of records where individual's income is at most $50,000: 37109\n",
      "Number of records where individual's capital gain: 4035\n",
      "Number of records where individual's capital loss: 2282\n"
     ]
    }
   ],
   "source": [
    "#3)\tPeople with high-income level has a lot of investments?\n",
    "# Number of records where individual's income is more than $50,000\n",
    "n_greater_50k = dfCSV[dfCSV['income'] == '>50K'].shape[0]\n",
    "\n",
    "# Number of records where individual's income is at most $50,000\n",
    "n_at_most_50k = dfCSV[dfCSV['income'] == '<=50K'].shape[0]\n",
    "\n",
    "# Number of records where individual's capital gain\n",
    "n_gain = dfCSV[dfCSV['capital-gain'] != 0].shape[0]\n",
    "\n",
    "# Number of records where individual's capital loss\n",
    "n_loss = dfCSV[dfCSV['capital-loss'] != 0].shape[0]\n",
    "\n",
    "print(\"Number of records where individual's income is more than $50,000: {}\".format(n_greater_50k))\n",
    "print(\"Number of records where individual's income is at most $50,000: {}\".format(n_at_most_50k))\n",
    "print(\"Number of records where individual's capital gain: {}\".format(n_gain))\n",
    "print(\"Number of records where individual's capital loss: {}\".format(n_loss))"
   ]
  },
  {
   "cell_type": "code",
   "execution_count": 17,
   "metadata": {},
   "outputs": [
    {
     "data": {
      "image/png": "[encoded data removed]",
      "text/plain": [
       "<Figure size 432x288 with 1 Axes>"
      ]
     },
     "metadata": {
      "needs_background": "light"
     },
     "output_type": "display_data"
    }
   ],
   "source": [
    "#Graph:\n",
    "import pandas as pd\n",
    "import seaborn as sns\n",
    "import matplotlib.pyplot as plt\n",
    "df1=pd.DataFrame({'x':dfCSV['income'],'y':dfCSV['capital-gain']})\n",
    "df2=pd.DataFrame({'x':dfCSV['income'],'y':dfCSV['capital-loss']})\n",
    "df1['hue']='capital gain'\n",
    "df2['hue']='capital loss'\n",
    "res=pd.concat([df1,df2])\n",
    "sns.barplot(x='x',y='y',data=res,hue='hue')\n",
    "plt.xlabel(\"income\")\n",
    "plt.ylabel(\"capital value\")\n",
    "plt.title('Income based on investment')\n",
    "plt.show()"
   ]
  },
  {
   "cell_type": "code",
   "execution_count": 18,
   "metadata": {},
   "outputs": [
    {
     "data": {
      "image/png": "[encoded data removed]",
      "text/plain": [
       "<Figure size 791.875x360 with 2 Axes>"
      ]
     },
     "metadata": {
      "needs_background": "light"
     },
     "output_type": "display_data"
    }
   ],
   "source": [
    "#Hypothesis\n",
    "import matplotlib.pyplot as plt\n",
    "import seaborn as sns\n",
    "\n",
    "g= sns.catplot(x=\"workclass\", col=\"sex\", hue=\"income\", data=dfCSV, kind=\"count\", palette=\"husl\")\n",
    "g.fig.suptitle(\"Income based on workclass\")\n",
    "g.set_xticklabels(rotation=60)\n",
    "g.set_xlabels(\"Workclass\")\n",
    "g.set_ylabels(\"Number of workers\")\n",
    "\n",
    "plt.show()"
   ]
  },
  {
   "cell_type": "code",
   "execution_count": 19,
   "metadata": {},
   "outputs": [
    {
     "name": "stdout",
     "output_type": "stream",
     "text": [
      "<class 'pandas.core.frame.DataFrame'>\n",
      "RangeIndex: 48842 entries, 0 to 48841\n",
      "Data columns (total 15 columns):\n",
      " #   Column          Non-Null Count  Dtype \n",
      "---  ------          --------------  ----- \n",
      " 0   age             48842 non-null  int64 \n",
      " 1   workclass       48842 non-null  object\n",
      " 2   fnlwgt          48842 non-null  int64 \n",
      " 3   education       48842 non-null  object\n",
      " 4   education-num   48842 non-null  int64 \n",
      " 5   marital-status  48842 non-null  object\n",
      " 6   occupation      48842 non-null  object\n",
      " 7   relationship    48842 non-null  object\n",
      " 8   race            48842 non-null  object\n",
      " 9   sex             48842 non-null  object\n",
      " 10  capital-gain    48842 non-null  int64 \n",
      " 11  capital-loss    48842 non-null  int64 \n",
      " 12  hours-per-week  48842 non-null  int64 \n",
      " 13  native-country  48842 non-null  object\n",
      " 14  income          48842 non-null  object\n",
      "dtypes: int64(6), object(9)\n",
      "memory usage: 5.6+ MB\n",
      "age                  0\n",
      "workclass         2799\n",
      "fnlwgt               0\n",
      "education            0\n",
      "education-num        0\n",
      "marital-status       0\n",
      "occupation        2809\n",
      "relationship         0\n",
      "race                 0\n",
      "sex                  0\n",
      "capital-gain         0\n",
      "capital-loss         0\n",
      "hours-per-week       0\n",
      "native-country     857\n",
      "income               0\n",
      "dtype: int64\n",
      "age               0\n",
      "workclass         0\n",
      "fnlwgt            0\n",
      "education         0\n",
      "education-num     0\n",
      "marital-status    0\n",
      "occupation        0\n",
      "relationship      0\n",
      "race              0\n",
      "sex               0\n",
      "capital-gain      0\n",
      "capital-loss      0\n",
      "hours-per-week    0\n",
      "native-country    0\n",
      "income            0\n",
      "dtype: int64\n"
     ]
    }
   ],
   "source": [
    "#machine learning\n",
    "import pandas as pd\n",
    "import numpy as np\n",
    "dfCSV = pd.read_csv(\"C:/Users/meera/Desktop/census.csv\")\n",
    "dfCSV.head()\n",
    "dfCSV.info()\n",
    "\n",
    "unknown_values = (dfCSV[['age','workclass',\n",
    "                        'fnlwgt','education','education-num',\n",
    "                        'marital-status','occupation','relationship',\n",
    "                        'race','sex','capital-gain','capital-loss',\n",
    "                        'hours-per-week', 'native-country', \n",
    "                        'income']]== '?').sum()\n",
    "print(unknown_values)\n",
    "\n",
    "dfCSV['workclass'] = dfCSV['workclass'].replace(['?'],'Other_workclass')\n",
    "dfCSV['occupation'] = dfCSV['occupation'].replace(['?'],'Other_Occupation')\n",
    "dfCSV['native-country'] = dfCSV['native-country'].replace(['?'],'Other_native_country')\n",
    "\n",
    "unknown_values = (dfCSV[['age','workclass',\n",
    "                        'fnlwgt','education','education-num',\n",
    "                        'marital-status','occupation','relationship',\n",
    "                        'race','sex','capital-gain','capital-loss',\n",
    "                        'hours-per-week', 'native-country',\n",
    "                        'income']]== '?').sum()\n",
    "print(unknown_values)"
   ]
  },
  {
   "cell_type": "code",
   "execution_count": 20,
   "metadata": {},
   "outputs": [],
   "source": [
    "# Data transformation to numerical data\n",
    "from sklearn.preprocessing import LabelEncoder\n",
    "var_mod = ['age','workclass','fnlwgt','education','education-num',\n",
    "           'marital-status','occupation','relationship','race','sex',\n",
    "           'capital-gain','capital-loss','hours-per-week', 'native-country',\n",
    "           'income']\n",
    "le = LabelEncoder()\n",
    "for i in var_mod:\n",
    "    dfCSV[i] = le.fit_transform(dfCSV[i])"
   ]
  },
  {
   "cell_type": "code",
   "execution_count": 21,
   "metadata": {},
   "outputs": [],
   "source": [
    "#Data and target\n",
    "x = dfCSV.iloc [:, :14]\n",
    "y = dfCSV.loc[:, ['income']]"
   ]
  },
  {
   "cell_type": "code",
   "execution_count": 22,
   "metadata": {},
   "outputs": [],
   "source": [
    "#Dataframe to numpy array\n",
    "x = x.values\n",
    "y = y.values\n",
    "y = y.ravel()"
   ]
  },
  {
   "cell_type": "code",
   "execution_count": 23,
   "metadata": {},
   "outputs": [],
   "source": [
    "#train test split\n",
    "from sklearn.model_selection import train_test_split\n",
    "x_train, x_test, y_train, y_test = train_test_split(x, y, test_size=0.2, random_state=42, stratify=y)"
   ]
  },
  {
   "cell_type": "code",
   "execution_count": 24,
   "metadata": {},
   "outputs": [],
   "source": [
    "#KNN\n",
    "from sklearn.neighbors import KNeighborsClassifier\n",
    "knn = KNeighborsClassifier(n_neighbors=6)\n",
    "knn.fit(x_train, y_train)\n",
    "y_pred = knn.predict(x_test)"
   ]
  },
  {
   "cell_type": "code",
   "execution_count": 39,
   "metadata": {},
   "outputs": [
    {
     "name": "stdout",
     "output_type": "stream",
     "text": [
      "11687\n",
      "37155\n",
      "4035\n",
      "2282\n"
     ]
    }
   ],
   "source": [
    "# Number of records where individual's income is more than $50,000\n",
    "n_greater_50k = dfcsv[dfcsv['income'] == '>50K'].shape[0]\n",
    "\n",
    "# Number of records where individual's income is at most $50,000\n",
    "n_at_most_50k = dfcsv[dfcsv['income'] == '<=50K'].shape[0]\n",
    "\n",
    "# Number of records where individual's capital gain\n",
    "n_gain = dfcsv[dfcsv['capital-gain'] != 0].shape[0]\n",
    "\n",
    "# Number of records where individual's capital loss\n",
    "n_loss = dfcsv[dfcsv['capital-loss'] != 0].shape[0]\n",
    "\n",
    "print(n_greater_50k)\n",
    "print(n_at_most_50k)\n",
    "print(n_gain)\n",
    "print(n_loss)"
   ]
  },
  {
   "cell_type": "code",
   "execution_count": 25,
   "metadata": {},
   "outputs": [
    {
     "name": "stdout",
     "output_type": "stream",
     "text": [
      "[[7059  372]\n",
      " [1664  674]]\n"
     ]
    }
   ],
   "source": [
    "#Making confusion matrix\n",
    "from sklearn.metrics import confusion_matrix\n",
    "cm1 = confusion_matrix(y_test,y_pred)\n",
    "print(cm1)"
   ]
  },
  {
   "cell_type": "code",
   "execution_count": 26,
   "metadata": {},
   "outputs": [
    {
     "name": "stdout",
     "output_type": "stream",
     "text": [
      "KNN: [Accuracy : 0.7916, Precision: 0.8092, Recall: 0.9499, F-score: 0.8339]\n"
     ]
    }
   ],
   "source": [
    "# Specific to the figures\n",
    "TP_1 = int(cm1[0,0]) #upper-left of confusion matrix\n",
    "FP_1 = int(cm1[1,0]) #below-left of confusion matrix\n",
    "FN_1 = int(cm1[0,1]) #upper-right of confusion matrix\n",
    "TN_1 = int(cm1[1,1]) #below-right of confusion matrix\n",
    "\n",
    "# Calculate accuracy, precision and recall\n",
    "accuracy_1 = (TP_1+ TN_1)/ (TP_1 + FP_1 + TN_1 + FN_1)\n",
    "precision_1 = TP_1 / (TP_1 + FP_1)\n",
    "recall_1 = TP_1 / (TP_1 + FN_1)\n",
    "\n",
    "# Calculate F-score using the formula above for beta = 0.5 and correct values for precision and recall\n",
    "fscore_1 = (1 + 0.5**2) * ((precision_1 * recall_1) / ((0.5**2) * precision_1 + recall_1))\n",
    "\n",
    "# Print the result \n",
    "print(\"KNN: [Accuracy : {:.4f}, Precision: {:.4f}, Recall: {:.4f}, F-score: {:.4f}]\".format(accuracy_1,precision_1, recall_1,fscore_1))"
   ]
  },
  {
   "cell_type": "code",
   "execution_count": 27,
   "metadata": {},
   "outputs": [
    {
     "data": {
      "image/png": "[encoded data removed]",
      "text/plain": [
       "<Figure size 1440x720 with 1 Axes>"
      ]
     },
     "metadata": {
      "needs_background": "light"
     },
     "output_type": "display_data"
    }
   ],
   "source": [
    "#illustrate the result\n",
    "import matplotlib.pyplot as plt\n",
    "ind = np.arange(1)\n",
    "plt.figure(figsize=(20,10))\n",
    "plt.bar(ind, precision_1, 0.20, label=\"Precision\", color='hotpink')\n",
    "plt.bar(ind + 0.25, recall_1, 0.20, label=\"Recall\")\n",
    "plt.bar(ind + 0.50, accuracy_1, 0.20, label=\"Accuracy\", color='red')\n",
    "plt.bar(ind + 0.75, fscore_1, 0.20, label=\"F-Score\")\n",
    "plt.xticks([])\n",
    "plt.legend()\n",
    "plt.title('Result Training Analysis')\n",
    "\n",
    "plt.show()"
   ]
  }
 ],
 "metadata": {
  "kernelspec": {
   "display_name": "Python 3",
   "language": "python",
   "name": "python3"
  },
  "language_info": {
   "codemirror_mode": {
    "name": "ipython",
    "version": 3
   },
   "file_extension": ".py",
   "mimetype": "text/x-python",
   "name": "python",
   "nbconvert_exporter": "python",
   "pygments_lexer": "ipython3",
   "version": "3.8.5"
  }
 },
 "nbformat": 4,
 "nbformat_minor": 4
}
